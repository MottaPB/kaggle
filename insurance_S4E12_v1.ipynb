{
 "cells": [
  {
   "cell_type": "markdown",
   "metadata": {},
   "source": [
    "# Determine Insurance Premiums"
   ]
  },
  {
   "cell_type": "markdown",
   "metadata": {},
   "source": [
    "This notebook aims to predict the value of insurance premiums based on customer informations.\n",
    "\n",
    "When you finish this notebook, you'll have a foundational knowledge on Predictive Analysis"
   ]
  },
  {
   "cell_type": "markdown",
   "metadata": {},
   "source": [
    "### Problem Statement"
   ]
  },
  {
   "cell_type": "markdown",
   "metadata": {},
   "source": [
    "- Given a set amount of features, treat them to extract the best possible model to predict the final value of the insurance premium\n",
    "\n",
    "- The dataset was extracted from kaggle https://www.kaggle.com/competitions/playground-series-s4e12/data\n",
    "    - This dataset was generated from a similar dataset https://www.kaggle.com/datasets/schran/insurance-premium-prediction\n",
    "    - They are just similar and can be used in conjunction, but they are not the same"
   ]
  },
  {
   "cell_type": "markdown",
   "metadata": {},
   "source": [
    "### Evaluation"
   ]
  },
  {
   "cell_type": "markdown",
   "metadata": {},
   "source": [
    "- Submissions are evaluated using the Root Mean Squared Logarithmic Error (RMSLE) \n",
    "    - https://scikit-learn.org/stable/modules/generated/sklearn.metrics.root_mean_squared_log_error.html#sklearn.metrics.root_mean_squared_log_error\n",
    "\n",
    "    - Advantages of using RMLSE:\n",
    "        - https://medium.com/analytics-vidhya/root-mean-square-log-error-rmse-vs-rmlse-935c6cc1802a\n",
    "        - Robustness to the effect of outliers\n",
    "        - The internal part of the RMSLE is fundamentally a calculation of relative error between the predicted and the actual values\n",
    "        - Biased penalty - RMSLE incurs a larger penalty for the underestimation of the Actual variable than the Overestimation. More penalty is incurred when the predicted Value is less than the Actual Value\n",
    "            - Especially useful for business cases where the underestimation of the target variable is no acceptable but overestimation can be tolerated\n",
    "                \n",
    "                **In this case, RMLSE is very useful since the Insurance Premium is the value paid to maintain coverage**\n",
    "                \n",
    "                **If we underestimate the premium to be paid, the insurance company will be loosing money. But we won't have much problem if the premium is slightly overestimated**"
   ]
  },
  {
   "cell_type": "markdown",
   "metadata": {},
   "source": [
    "### Submission file"
   ]
  },
  {
   "cell_type": "markdown",
   "metadata": {},
   "source": [
    "For each id row in the test set, you must predict the continuous target Premium Amount. The file should contain a header and have the following format:\n",
    "\n",
    "id,Premium Amount\n",
    "\n",
    "1200000,1102.545\n",
    "\n",
    "1200001,1102.545\n",
    "\n",
    "1200002,1102.545\n",
    "\n",
    "etc."
   ]
  },
  {
   "cell_type": "markdown",
   "metadata": {},
   "source": [
    "#### Data loading"
   ]
  },
  {
   "cell_type": "code",
   "execution_count": 116,
   "metadata": {},
   "outputs": [],
   "source": [
    "import pandas as pd\n",
    "import matplotlib.pyplot as plt\n",
    "%matplotlib inline\n",
    "\n",
    "import numpy as np\n",
    "import seaborn as sns"
   ]
  },
  {
   "cell_type": "code",
   "execution_count": 117,
   "metadata": {},
   "outputs": [],
   "source": [
    "#Import train set\n",
    "df_path = 'depression_train.csv'\n",
    "df = pd.read_csv(df_path,index_col=\"id\")\n",
    "\n",
    "df.head()\n",
    "\n",
    "#Import test set\n",
    "df_test_path = 'depression_test.csv'\n",
    "df_test = pd.read_csv(df_test_path,index_col=\"id\")\n",
    "\n",
    "X_test = df_test.copy()"
   ]
  },
  {
   "cell_type": "code",
   "execution_count": 118,
   "metadata": {},
   "outputs": [],
   "source": [
    "#Separate target from train set\n",
    "#X_train.dropna(axis=0,subset=['Depression'],inplace=True)\n",
    "#y_train = X_train.pop('Depression')"
   ]
  },
  {
   "cell_type": "code",
   "execution_count": 119,
   "metadata": {},
   "outputs": [],
   "source": [
    "#Mark train column as 'True' for train set and 'False' for test set\n",
    "#So I can join both sets and make necessary transformations on both sets at the same time\n",
    "df['is_train'] = 1\n",
    "X_test['is_train'] = 0\n",
    "\n",
    "df_total = pd.concat([df, X_test])"
   ]
  },
  {
   "cell_type": "code",
   "execution_count": 120,
   "metadata": {},
   "outputs": [
    {
     "data": {
      "text/html": [
       "<div>\n",
       "<style scoped>\n",
       "    .dataframe tbody tr th:only-of-type {\n",
       "        vertical-align: middle;\n",
       "    }\n",
       "\n",
       "    .dataframe tbody tr th {\n",
       "        vertical-align: top;\n",
       "    }\n",
       "\n",
       "    .dataframe thead th {\n",
       "        text-align: right;\n",
       "    }\n",
       "</style>\n",
       "<table border=\"1\" class=\"dataframe\">\n",
       "  <thead>\n",
       "    <tr style=\"text-align: right;\">\n",
       "      <th></th>\n",
       "      <th>Name</th>\n",
       "      <th>Gender</th>\n",
       "      <th>Age</th>\n",
       "      <th>City</th>\n",
       "      <th>Working Professional or Student</th>\n",
       "      <th>Profession</th>\n",
       "      <th>Academic Pressure</th>\n",
       "      <th>Work Pressure</th>\n",
       "      <th>CGPA</th>\n",
       "      <th>Study Satisfaction</th>\n",
       "      <th>Job Satisfaction</th>\n",
       "      <th>Sleep Duration</th>\n",
       "      <th>Dietary Habits</th>\n",
       "      <th>Degree</th>\n",
       "      <th>Have you ever had suicidal thoughts ?</th>\n",
       "      <th>Work/Study Hours</th>\n",
       "      <th>Financial Stress</th>\n",
       "      <th>Family History of Mental Illness</th>\n",
       "      <th>Depression</th>\n",
       "      <th>is_train</th>\n",
       "    </tr>\n",
       "    <tr>\n",
       "      <th>id</th>\n",
       "      <th></th>\n",
       "      <th></th>\n",
       "      <th></th>\n",
       "      <th></th>\n",
       "      <th></th>\n",
       "      <th></th>\n",
       "      <th></th>\n",
       "      <th></th>\n",
       "      <th></th>\n",
       "      <th></th>\n",
       "      <th></th>\n",
       "      <th></th>\n",
       "      <th></th>\n",
       "      <th></th>\n",
       "      <th></th>\n",
       "      <th></th>\n",
       "      <th></th>\n",
       "      <th></th>\n",
       "      <th></th>\n",
       "      <th></th>\n",
       "    </tr>\n",
       "  </thead>\n",
       "  <tbody>\n",
       "    <tr>\n",
       "      <th>0</th>\n",
       "      <td>Aaradhya</td>\n",
       "      <td>Female</td>\n",
       "      <td>49.0</td>\n",
       "      <td>Ludhiana</td>\n",
       "      <td>Working Professional</td>\n",
       "      <td>Chef</td>\n",
       "      <td>NaN</td>\n",
       "      <td>5.0</td>\n",
       "      <td>NaN</td>\n",
       "      <td>NaN</td>\n",
       "      <td>2.0</td>\n",
       "      <td>More than 8 hours</td>\n",
       "      <td>Healthy</td>\n",
       "      <td>BHM</td>\n",
       "      <td>No</td>\n",
       "      <td>1.0</td>\n",
       "      <td>2.0</td>\n",
       "      <td>No</td>\n",
       "      <td>0.0</td>\n",
       "      <td>1</td>\n",
       "    </tr>\n",
       "    <tr>\n",
       "      <th>1</th>\n",
       "      <td>Vivan</td>\n",
       "      <td>Male</td>\n",
       "      <td>26.0</td>\n",
       "      <td>Varanasi</td>\n",
       "      <td>Working Professional</td>\n",
       "      <td>Teacher</td>\n",
       "      <td>NaN</td>\n",
       "      <td>4.0</td>\n",
       "      <td>NaN</td>\n",
       "      <td>NaN</td>\n",
       "      <td>3.0</td>\n",
       "      <td>Less than 5 hours</td>\n",
       "      <td>Unhealthy</td>\n",
       "      <td>LLB</td>\n",
       "      <td>Yes</td>\n",
       "      <td>7.0</td>\n",
       "      <td>3.0</td>\n",
       "      <td>No</td>\n",
       "      <td>1.0</td>\n",
       "      <td>1</td>\n",
       "    </tr>\n",
       "    <tr>\n",
       "      <th>2</th>\n",
       "      <td>Yuvraj</td>\n",
       "      <td>Male</td>\n",
       "      <td>33.0</td>\n",
       "      <td>Visakhapatnam</td>\n",
       "      <td>Student</td>\n",
       "      <td>NaN</td>\n",
       "      <td>5.0</td>\n",
       "      <td>NaN</td>\n",
       "      <td>8.97</td>\n",
       "      <td>2.0</td>\n",
       "      <td>NaN</td>\n",
       "      <td>5-6 hours</td>\n",
       "      <td>Healthy</td>\n",
       "      <td>B.Pharm</td>\n",
       "      <td>Yes</td>\n",
       "      <td>3.0</td>\n",
       "      <td>1.0</td>\n",
       "      <td>No</td>\n",
       "      <td>1.0</td>\n",
       "      <td>1</td>\n",
       "    </tr>\n",
       "    <tr>\n",
       "      <th>3</th>\n",
       "      <td>Yuvraj</td>\n",
       "      <td>Male</td>\n",
       "      <td>22.0</td>\n",
       "      <td>Mumbai</td>\n",
       "      <td>Working Professional</td>\n",
       "      <td>Teacher</td>\n",
       "      <td>NaN</td>\n",
       "      <td>5.0</td>\n",
       "      <td>NaN</td>\n",
       "      <td>NaN</td>\n",
       "      <td>1.0</td>\n",
       "      <td>Less than 5 hours</td>\n",
       "      <td>Moderate</td>\n",
       "      <td>BBA</td>\n",
       "      <td>Yes</td>\n",
       "      <td>10.0</td>\n",
       "      <td>1.0</td>\n",
       "      <td>Yes</td>\n",
       "      <td>1.0</td>\n",
       "      <td>1</td>\n",
       "    </tr>\n",
       "    <tr>\n",
       "      <th>4</th>\n",
       "      <td>Rhea</td>\n",
       "      <td>Female</td>\n",
       "      <td>30.0</td>\n",
       "      <td>Kanpur</td>\n",
       "      <td>Working Professional</td>\n",
       "      <td>Business Analyst</td>\n",
       "      <td>NaN</td>\n",
       "      <td>1.0</td>\n",
       "      <td>NaN</td>\n",
       "      <td>NaN</td>\n",
       "      <td>1.0</td>\n",
       "      <td>5-6 hours</td>\n",
       "      <td>Unhealthy</td>\n",
       "      <td>BBA</td>\n",
       "      <td>Yes</td>\n",
       "      <td>9.0</td>\n",
       "      <td>4.0</td>\n",
       "      <td>Yes</td>\n",
       "      <td>0.0</td>\n",
       "      <td>1</td>\n",
       "    </tr>\n",
       "  </tbody>\n",
       "</table>\n",
       "</div>"
      ],
      "text/plain": [
       "        Name  Gender   Age           City Working Professional or Student  \\\n",
       "id                                                                          \n",
       "0   Aaradhya  Female  49.0       Ludhiana            Working Professional   \n",
       "1      Vivan    Male  26.0       Varanasi            Working Professional   \n",
       "2     Yuvraj    Male  33.0  Visakhapatnam                         Student   \n",
       "3     Yuvraj    Male  22.0         Mumbai            Working Professional   \n",
       "4       Rhea  Female  30.0         Kanpur            Working Professional   \n",
       "\n",
       "          Profession  Academic Pressure  Work Pressure  CGPA  \\\n",
       "id                                                             \n",
       "0               Chef                NaN            5.0   NaN   \n",
       "1            Teacher                NaN            4.0   NaN   \n",
       "2                NaN                5.0            NaN  8.97   \n",
       "3            Teacher                NaN            5.0   NaN   \n",
       "4   Business Analyst                NaN            1.0   NaN   \n",
       "\n",
       "    Study Satisfaction  Job Satisfaction     Sleep Duration Dietary Habits  \\\n",
       "id                                                                           \n",
       "0                  NaN               2.0  More than 8 hours        Healthy   \n",
       "1                  NaN               3.0  Less than 5 hours      Unhealthy   \n",
       "2                  2.0               NaN          5-6 hours        Healthy   \n",
       "3                  NaN               1.0  Less than 5 hours       Moderate   \n",
       "4                  NaN               1.0          5-6 hours      Unhealthy   \n",
       "\n",
       "     Degree Have you ever had suicidal thoughts ?  Work/Study Hours  \\\n",
       "id                                                                    \n",
       "0       BHM                                    No               1.0   \n",
       "1       LLB                                   Yes               7.0   \n",
       "2   B.Pharm                                   Yes               3.0   \n",
       "3       BBA                                   Yes              10.0   \n",
       "4       BBA                                   Yes               9.0   \n",
       "\n",
       "    Financial Stress Family History of Mental Illness  Depression  is_train  \n",
       "id                                                                           \n",
       "0                2.0                               No         0.0         1  \n",
       "1                3.0                               No         1.0         1  \n",
       "2                1.0                               No         1.0         1  \n",
       "3                1.0                              Yes         1.0         1  \n",
       "4                4.0                              Yes         0.0         1  "
      ]
     },
     "execution_count": 120,
     "metadata": {},
     "output_type": "execute_result"
    }
   ],
   "source": [
    "df_total.head()"
   ]
  },
  {
   "cell_type": "code",
   "execution_count": 121,
   "metadata": {},
   "outputs": [
    {
     "data": {
      "text/html": [
       "<div>\n",
       "<style scoped>\n",
       "    .dataframe tbody tr th:only-of-type {\n",
       "        vertical-align: middle;\n",
       "    }\n",
       "\n",
       "    .dataframe tbody tr th {\n",
       "        vertical-align: top;\n",
       "    }\n",
       "\n",
       "    .dataframe thead th {\n",
       "        text-align: right;\n",
       "    }\n",
       "</style>\n",
       "<table border=\"1\" class=\"dataframe\">\n",
       "  <thead>\n",
       "    <tr style=\"text-align: right;\">\n",
       "      <th></th>\n",
       "      <th>Name</th>\n",
       "      <th>Gender</th>\n",
       "      <th>Age</th>\n",
       "      <th>City</th>\n",
       "      <th>Working Professional or Student</th>\n",
       "      <th>Profession</th>\n",
       "      <th>Academic Pressure</th>\n",
       "      <th>Work Pressure</th>\n",
       "      <th>CGPA</th>\n",
       "      <th>Study Satisfaction</th>\n",
       "      <th>Job Satisfaction</th>\n",
       "      <th>Sleep Duration</th>\n",
       "      <th>Dietary Habits</th>\n",
       "      <th>Degree</th>\n",
       "      <th>Have you ever had suicidal thoughts ?</th>\n",
       "      <th>Work/Study Hours</th>\n",
       "      <th>Financial Stress</th>\n",
       "      <th>Family History of Mental Illness</th>\n",
       "      <th>Depression</th>\n",
       "      <th>is_train</th>\n",
       "    </tr>\n",
       "    <tr>\n",
       "      <th>id</th>\n",
       "      <th></th>\n",
       "      <th></th>\n",
       "      <th></th>\n",
       "      <th></th>\n",
       "      <th></th>\n",
       "      <th></th>\n",
       "      <th></th>\n",
       "      <th></th>\n",
       "      <th></th>\n",
       "      <th></th>\n",
       "      <th></th>\n",
       "      <th></th>\n",
       "      <th></th>\n",
       "      <th></th>\n",
       "      <th></th>\n",
       "      <th></th>\n",
       "      <th></th>\n",
       "      <th></th>\n",
       "      <th></th>\n",
       "      <th></th>\n",
       "    </tr>\n",
       "  </thead>\n",
       "  <tbody>\n",
       "    <tr>\n",
       "      <th>234495</th>\n",
       "      <td>Zoya</td>\n",
       "      <td>Female</td>\n",
       "      <td>49.0</td>\n",
       "      <td>Jaipur</td>\n",
       "      <td>Working Professional</td>\n",
       "      <td>Pilot</td>\n",
       "      <td>NaN</td>\n",
       "      <td>3.0</td>\n",
       "      <td>NaN</td>\n",
       "      <td>NaN</td>\n",
       "      <td>5.0</td>\n",
       "      <td>Less than 5 hours</td>\n",
       "      <td>Moderate</td>\n",
       "      <td>BSc</td>\n",
       "      <td>Yes</td>\n",
       "      <td>2.0</td>\n",
       "      <td>2.0</td>\n",
       "      <td>Yes</td>\n",
       "      <td>NaN</td>\n",
       "      <td>0</td>\n",
       "    </tr>\n",
       "    <tr>\n",
       "      <th>234496</th>\n",
       "      <td>Shlok</td>\n",
       "      <td>Male</td>\n",
       "      <td>29.0</td>\n",
       "      <td>Ahmedabad</td>\n",
       "      <td>Working Professional</td>\n",
       "      <td>Pilot</td>\n",
       "      <td>NaN</td>\n",
       "      <td>5.0</td>\n",
       "      <td>NaN</td>\n",
       "      <td>NaN</td>\n",
       "      <td>1.0</td>\n",
       "      <td>7-8 hours</td>\n",
       "      <td>Moderate</td>\n",
       "      <td>BE</td>\n",
       "      <td>Yes</td>\n",
       "      <td>11.0</td>\n",
       "      <td>3.0</td>\n",
       "      <td>Yes</td>\n",
       "      <td>NaN</td>\n",
       "      <td>0</td>\n",
       "    </tr>\n",
       "    <tr>\n",
       "      <th>234497</th>\n",
       "      <td>Rishi</td>\n",
       "      <td>Male</td>\n",
       "      <td>24.0</td>\n",
       "      <td>Visakhapatnam</td>\n",
       "      <td>Student</td>\n",
       "      <td>NaN</td>\n",
       "      <td>1.0</td>\n",
       "      <td>NaN</td>\n",
       "      <td>7.51</td>\n",
       "      <td>4.0</td>\n",
       "      <td>NaN</td>\n",
       "      <td>7-8 hours</td>\n",
       "      <td>Moderate</td>\n",
       "      <td>B.Tech</td>\n",
       "      <td>No</td>\n",
       "      <td>7.0</td>\n",
       "      <td>1.0</td>\n",
       "      <td>No</td>\n",
       "      <td>NaN</td>\n",
       "      <td>0</td>\n",
       "    </tr>\n",
       "    <tr>\n",
       "      <th>234498</th>\n",
       "      <td>Eshita</td>\n",
       "      <td>Female</td>\n",
       "      <td>23.0</td>\n",
       "      <td>Kalyan</td>\n",
       "      <td>Working Professional</td>\n",
       "      <td>Marketing Manager</td>\n",
       "      <td>NaN</td>\n",
       "      <td>4.0</td>\n",
       "      <td>NaN</td>\n",
       "      <td>NaN</td>\n",
       "      <td>2.0</td>\n",
       "      <td>5-6 hours</td>\n",
       "      <td>Healthy</td>\n",
       "      <td>BA</td>\n",
       "      <td>Yes</td>\n",
       "      <td>7.0</td>\n",
       "      <td>5.0</td>\n",
       "      <td>Yes</td>\n",
       "      <td>NaN</td>\n",
       "      <td>0</td>\n",
       "    </tr>\n",
       "    <tr>\n",
       "      <th>234499</th>\n",
       "      <td>Gauri</td>\n",
       "      <td>Female</td>\n",
       "      <td>43.0</td>\n",
       "      <td>Varanasi</td>\n",
       "      <td>Working Professional</td>\n",
       "      <td>Educational Consultant</td>\n",
       "      <td>NaN</td>\n",
       "      <td>5.0</td>\n",
       "      <td>NaN</td>\n",
       "      <td>NaN</td>\n",
       "      <td>2.0</td>\n",
       "      <td>More than 8 hours</td>\n",
       "      <td>Healthy</td>\n",
       "      <td>B.Ed</td>\n",
       "      <td>No</td>\n",
       "      <td>11.0</td>\n",
       "      <td>2.0</td>\n",
       "      <td>No</td>\n",
       "      <td>NaN</td>\n",
       "      <td>0</td>\n",
       "    </tr>\n",
       "  </tbody>\n",
       "</table>\n",
       "</div>"
      ],
      "text/plain": [
       "          Name  Gender   Age           City Working Professional or Student  \\\n",
       "id                                                                            \n",
       "234495    Zoya  Female  49.0         Jaipur            Working Professional   \n",
       "234496   Shlok    Male  29.0      Ahmedabad            Working Professional   \n",
       "234497   Rishi    Male  24.0  Visakhapatnam                         Student   \n",
       "234498  Eshita  Female  23.0         Kalyan            Working Professional   \n",
       "234499   Gauri  Female  43.0       Varanasi            Working Professional   \n",
       "\n",
       "                    Profession  Academic Pressure  Work Pressure  CGPA  \\\n",
       "id                                                                       \n",
       "234495                   Pilot                NaN            3.0   NaN   \n",
       "234496                   Pilot                NaN            5.0   NaN   \n",
       "234497                     NaN                1.0            NaN  7.51   \n",
       "234498       Marketing Manager                NaN            4.0   NaN   \n",
       "234499  Educational Consultant                NaN            5.0   NaN   \n",
       "\n",
       "        Study Satisfaction  Job Satisfaction     Sleep Duration  \\\n",
       "id                                                                \n",
       "234495                 NaN               5.0  Less than 5 hours   \n",
       "234496                 NaN               1.0          7-8 hours   \n",
       "234497                 4.0               NaN          7-8 hours   \n",
       "234498                 NaN               2.0          5-6 hours   \n",
       "234499                 NaN               2.0  More than 8 hours   \n",
       "\n",
       "       Dietary Habits  Degree Have you ever had suicidal thoughts ?  \\\n",
       "id                                                                    \n",
       "234495       Moderate     BSc                                   Yes   \n",
       "234496       Moderate      BE                                   Yes   \n",
       "234497       Moderate  B.Tech                                    No   \n",
       "234498        Healthy      BA                                   Yes   \n",
       "234499        Healthy    B.Ed                                    No   \n",
       "\n",
       "        Work/Study Hours  Financial Stress Family History of Mental Illness  \\\n",
       "id                                                                            \n",
       "234495               2.0               2.0                              Yes   \n",
       "234496              11.0               3.0                              Yes   \n",
       "234497               7.0               1.0                               No   \n",
       "234498               7.0               5.0                              Yes   \n",
       "234499              11.0               2.0                               No   \n",
       "\n",
       "        Depression  is_train  \n",
       "id                            \n",
       "234495         NaN         0  \n",
       "234496         NaN         0  \n",
       "234497         NaN         0  \n",
       "234498         NaN         0  \n",
       "234499         NaN         0  "
      ]
     },
     "execution_count": 121,
     "metadata": {},
     "output_type": "execute_result"
    }
   ],
   "source": [
    "df_total.tail()"
   ]
  },
  {
   "cell_type": "markdown",
   "metadata": {},
   "source": [
    "### Data understanding"
   ]
  },
  {
   "cell_type": "code",
   "execution_count": 122,
   "metadata": {},
   "outputs": [
    {
     "data": {
      "text/plain": [
       "Name                                      object\n",
       "Gender                                    object\n",
       "Age                                      float64\n",
       "City                                      object\n",
       "Working Professional or Student           object\n",
       "Profession                                object\n",
       "Academic Pressure                        float64\n",
       "Work Pressure                            float64\n",
       "CGPA                                     float64\n",
       "Study Satisfaction                       float64\n",
       "Job Satisfaction                         float64\n",
       "Sleep Duration                            object\n",
       "Dietary Habits                            object\n",
       "Degree                                    object\n",
       "Have you ever had suicidal thoughts ?     object\n",
       "Work/Study Hours                         float64\n",
       "Financial Stress                         float64\n",
       "Family History of Mental Illness          object\n",
       "Depression                               float64\n",
       "is_train                                   int64\n",
       "dtype: object"
      ]
     },
     "execution_count": 122,
     "metadata": {},
     "output_type": "execute_result"
    }
   ],
   "source": [
    "df_total.dtypes"
   ]
  },
  {
   "cell_type": "code",
   "execution_count": 123,
   "metadata": {},
   "outputs": [],
   "source": [
    "feature_check = df_total['Dietary Habits']"
   ]
  },
  {
   "cell_type": "code",
   "execution_count": 124,
   "metadata": {},
   "outputs": [
    {
     "name": "stdout",
     "output_type": "stream",
     "text": [
      "['Healthy' 'Unhealthy' 'Moderate' 'Yes' 'Pratham' 'BSc' 'Gender' '3'\n",
      " 'More Healthy' 'Less than Healthy' 'Mihir' '1.0' 'Hormonal' 'Electrician'\n",
      " nan 'No Healthy' 'Less Healthy' 'M.Tech' 'Vegas' 'No' 'Male' 'Indoor'\n",
      " 'Class 12' '2' 'Prachi' 'Mealy' 'Resistant' 'MCA' '5 Healthy' 'Academic'\n",
      " 'Educational' 'Soham' '5 Unhealthy' 'Vivaan' 'Raghav' 'Naina' 'Kolkata']\n"
     ]
    }
   ],
   "source": [
    "#Show unique values\n",
    "print(feature_check.unique())"
   ]
  },
  {
   "cell_type": "code",
   "execution_count": 125,
   "metadata": {},
   "outputs": [
    {
     "name": "stdout",
     "output_type": "stream",
     "text": [
      "36\n"
     ]
    }
   ],
   "source": [
    "#Count unique values\n",
    "print(feature_check.nunique())"
   ]
  },
  {
   "cell_type": "code",
   "execution_count": 126,
   "metadata": {},
   "outputs": [
    {
     "name": "stdout",
     "output_type": "stream",
     "text": [
      "Dietary Habits\n",
      "Moderate             82723\n",
      "Unhealthy            77013\n",
      "Healthy              74707\n",
      "No                       8\n",
      "More Healthy             4\n",
      "Indoor                   2\n",
      "Male                     2\n",
      "Yes                      2\n",
      "1.0                      2\n",
      "Less Healthy             2\n",
      "Academic                 1\n",
      "Resistant                1\n",
      "MCA                      1\n",
      "5 Healthy                1\n",
      "Educational              1\n",
      "Prachi                   1\n",
      "Soham                    1\n",
      "5 Unhealthy              1\n",
      "Vivaan                   1\n",
      "Raghav                   1\n",
      "Naina                    1\n",
      "Mealy                    1\n",
      "Pratham                  1\n",
      "2                        1\n",
      "Class 12                 1\n",
      "BSc                      1\n",
      "Vegas                    1\n",
      "M.Tech                   1\n",
      "No Healthy               1\n",
      "Electrician              1\n",
      "Hormonal                 1\n",
      "Mihir                    1\n",
      "Less than Healthy        1\n",
      "3                        1\n",
      "Gender                   1\n",
      "Kolkata                  1\n",
      "Name: count, dtype: int64\n"
     ]
    }
   ],
   "source": [
    "#Count the occurance of each unique value in the column - check crazy values\n",
    "print(feature_check.value_counts())"
   ]
  },
  {
   "cell_type": "code",
   "execution_count": 127,
   "metadata": {},
   "outputs": [
    {
     "name": "stdout",
     "output_type": "stream",
     "text": [
      "Profession             61262\n",
      "Academic Pressure     187836\n",
      "Work Pressure          46696\n",
      "CGPA                  187836\n",
      "Study Satisfaction    187836\n",
      "Job Satisfaction       46684\n",
      "Dietary Habits             9\n",
      "Degree                     4\n",
      "Financial Stress           4\n",
      "Depression             93800\n",
      "dtype: int64\n"
     ]
    }
   ],
   "source": [
    "#Number of missing values in each column of data\n",
    "missing_val_count_by_column = (df_total.isnull().sum())\n",
    "print(missing_val_count_by_column[missing_val_count_by_column > 0])"
   ]
  },
  {
   "cell_type": "markdown",
   "metadata": {},
   "source": [
    "**Features - First notes**\n",
    "\n",
    "- Name: Name of the insured individual (Categorical)\n",
    "- Gender: Gender of the insured individual (Categorical: Male, Female)\n",
    "- Age: Age of the insured individual (Numerical)\n",
    "- City: City of the insured individual (Categorical: 124 unique values)\n",
    "- Working Professional or Student (Categorical: Working Professional, Student)\n",
    "- Profession: Profession of the insured individual (Categorical: 81 unique values **missing values**)\n",
    "- Academic Pressure: Leve of academic pressure (Numerical: 1-5 **missing values**) - *Missing values are for \"Working Professionals\"?* \n",
    "- Work Pressure: Level of work pressure (Numerical: 1-5 **missing values**) - *Missing values are for \"Studentes\"?*\n",
    "    - Academic Pressure and Work Pressure might be combined into Feature **Pressure**\n",
    "- CGPA: Cumulative Grade Point Average - Student related (Numerical: 0-10) **Missing for working professionals**\n",
    "- Study Satisfaction: Level of study satisfaction (Numerical: 1-5) **Missing values** \n",
    "- Job Satisfaction: Level of working satisfaction (Numerical: 1-5) **Missing values**\n",
    "    - Study satisfaction and Job satisfaction might be combined into Feature **Satisfaction**\n",
    "- Sleep duration: Range of sleep duration (Categorical: *doesn't seem useful*) - **Check on crazy values**\n",
    "- Dietary Habits: Category of heathiness (Categorical: Healthy, Unhealthy, Moderate) - **Check on crazy values**\n",
    "- Degree: Type of degree (Categorical: 156 unique values - *Hardly useful*)\n",
    "- Have you ever had suicidal thoughts ?: Yes/No question (Categorical: Yes/No)\n",
    "- Financial Stress: Level of financial stress (Numerical 1-5) **Missing Values**\n",
    "- Family History of Mental Illness: Yes/No question (Categorical: Yes/No)"
   ]
  },
  {
   "cell_type": "markdown",
   "metadata": {},
   "source": [
    "### Data cleaning"
   ]
  },
  {
   "cell_type": "markdown",
   "metadata": {},
   "source": [
    "- Profession\n",
    "- CGPA\n",
    "- Sleep Duration\n",
    "- Dietary Habits\n",
    "- Financial Stress\n",
    "\n",
    "(Ps: Pressure and Satisfaction will be treated on *Feature Engineering*)"
   ]
  },
  {
   "cell_type": "markdown",
   "metadata": {},
   "source": [
    "- Name\n",
    "- Profession\n",
    "- City"
   ]
  },
  {
   "cell_type": "markdown",
   "metadata": {},
   "source": [
    "Profession is not a complicated case. There are missing values for \"Student\", which is natural and some missing values for \"Working Professional\", which we could classify as \"Unknown\" or any other choice. However, first glance showed 81 unique values. That doesn't seem useful at first. So, the code for filling the missing data is bellow just for knowledge. We are actually dropping this column.\n",
    "\n",
    "For City, the approach will be the same, the filling code would be similar to the Profession case.\n",
    "\n",
    "Name does not have any missing value, but seems not useful either, so we are droping it."
   ]
  },
  {
   "cell_type": "code",
   "execution_count": 128,
   "metadata": {},
   "outputs": [],
   "source": [
    "#Understanding the data\n",
    "\n",
    "#df_total[['Working Professional or Student','Profession']].head(20)\n",
    "\n",
    "# Filter rows where column 'Profession' has NaN values\n",
    "#filtered_df = df_total[df_total['Profession'].isna()]\n",
    "\n",
    "\n",
    "# Count unique values in column 'A' for these rows\n",
    "#unique_count = filtered_df['Working Professional or Student'].unique()\n",
    "#print(unique_count)"
   ]
  },
  {
   "cell_type": "code",
   "execution_count": 129,
   "metadata": {},
   "outputs": [],
   "source": [
    "# Fill column 'Profession' based on values for 'Working Professional or Student'\n",
    "#df_total['Profession'] = np.where(df_total['Profession'].isna() & (df_total['Working Professional or Student'] == 'Working Professional'), 'Unknown', df_total['Profession'])\n",
    "#df_total['Profession'] = np.where(df_total['Profession'].isna() & (df_total['Working Professional or Student'] == 'Student'), 'Student', df_total['Profession'])"
   ]
  },
  {
   "cell_type": "code",
   "execution_count": 130,
   "metadata": {},
   "outputs": [],
   "source": [
    "df_total.drop(axis=1, labels= ['Name','Profession','City','Degree'],inplace=True)"
   ]
  },
  {
   "cell_type": "code",
   "execution_count": 131,
   "metadata": {},
   "outputs": [
    {
     "name": "stdout",
     "output_type": "stream",
     "text": [
      "Dietary Habits\n",
      "Moderate             82723\n",
      "Unhealthy            77013\n",
      "Healthy              74707\n",
      "No                       8\n",
      "More Healthy             4\n",
      "Indoor                   2\n",
      "Male                     2\n",
      "Yes                      2\n",
      "1.0                      2\n",
      "Less Healthy             2\n",
      "Academic                 1\n",
      "Resistant                1\n",
      "MCA                      1\n",
      "5 Healthy                1\n",
      "Educational              1\n",
      "Prachi                   1\n",
      "Soham                    1\n",
      "5 Unhealthy              1\n",
      "Vivaan                   1\n",
      "Raghav                   1\n",
      "Naina                    1\n",
      "Mealy                    1\n",
      "Pratham                  1\n",
      "2                        1\n",
      "Class 12                 1\n",
      "BSc                      1\n",
      "Vegas                    1\n",
      "M.Tech                   1\n",
      "No Healthy               1\n",
      "Electrician              1\n",
      "Hormonal                 1\n",
      "Mihir                    1\n",
      "Less than Healthy        1\n",
      "3                        1\n",
      "Gender                   1\n",
      "Kolkata                  1\n",
      "Name: count, dtype: int64\n"
     ]
    }
   ],
   "source": [
    "#Count the occurance of each unique value in the column - check crazy values\n",
    "print(df_total['Dietary Habits'].value_counts())"
   ]
  },
  {
   "cell_type": "code",
   "execution_count": 132,
   "metadata": {},
   "outputs": [
    {
     "name": "stdout",
     "output_type": "stream",
     "text": [
      "Sleep Duration\n",
      "Less than 5 hours                      64445\n",
      "7-8 hours                              61460\n",
      "More than 8 hours                      54916\n",
      "5-6 hours                              53546\n",
      "6-7 hours                                 15\n",
      "3-4 hours                                 15\n",
      "4-5 hours                                 13\n",
      "2-3 hours                                  9\n",
      "8-9 hours                                  8\n",
      "4-6 hours                                  7\n",
      "1-6 hours                                  6\n",
      "No                                         4\n",
      "6-8 hours                                  4\n",
      "9-5                                        3\n",
      "9-11 hours                                 3\n",
      "1-2 hours                                  3\n",
      "Unhealthy                                  3\n",
      "9-5 hours                                  3\n",
      "Sleep_Duration                             2\n",
      "Meerut                                     2\n",
      "3-6 hours                                  2\n",
      "than 5 hours                               2\n",
      "10-6 hours                                 2\n",
      "45                                         2\n",
      "1-3 hours                                  2\n",
      "9-6 hours                                  2\n",
      "10-11 hours                                2\n",
      "8-89 hours                                 1\n",
      "Have_you_ever_had_suicidal_thoughts        1\n",
      "Vivan                                      1\n",
      "20-21 hours                                1\n",
      "60-65 hours                                1\n",
      "6 hours                                    1\n",
      "50-75 hours                                1\n",
      "0                                          1\n",
      "35-36 hours                                1\n",
      "Pune                                       1\n",
      "45-48 hours                                1\n",
      "Work_Study_Hours                           1\n",
      "49 hours                                   1\n",
      "8 hours                                    1\n",
      "Indore                                     1\n",
      "55-66 hours                                1\n",
      "Moderate                                   1\n",
      "40-45 hours                                1\n",
      "9-10 hours                                 1\n",
      "Name: count, dtype: int64\n"
     ]
    }
   ],
   "source": [
    "#Count the occurance of each unique value in the column - check crazy values\n",
    "print(df_total['Sleep Duration'].value_counts())"
   ]
  },
  {
   "cell_type": "markdown",
   "metadata": {},
   "source": [
    "- Sleep Duration\n",
    "- Dietary Habit"
   ]
  },
  {
   "cell_type": "markdown",
   "metadata": {},
   "source": [
    "These are interesting cases. They have a huge amount of categories, but the majority of cases are concetrated on 3 or 4 categories. So we will check the amount of data outside of the most common categories."
   ]
  },
  {
   "cell_type": "code",
   "execution_count": 133,
   "metadata": {},
   "outputs": [
    {
     "name": "stdout",
     "output_type": "stream",
     "text": [
      "0.9997569296375266\n"
     ]
    }
   ],
   "source": [
    "count = len(df_total[(df_total['Dietary Habits'] == 'Healthy') | (df_total['Dietary Habits'] == 'Unhealthy') | (df_total['Dietary Habits'] == 'Moderate')])/len(df_total['Dietary Habits'])\n",
    "print(count)"
   ]
  },
  {
   "cell_type": "code",
   "execution_count": 134,
   "metadata": {},
   "outputs": [
    {
     "name": "stdout",
     "output_type": "stream",
     "text": [
      "0.9994328358208955\n"
     ]
    }
   ],
   "source": [
    "count = len(df_total[(df_total['Sleep Duration'] == 'Less than 5 hours') | (df_total['Sleep Duration'] == '7-8 hours') | (df_total['Sleep Duration'] == 'More than 8 hours') | (df_total['Sleep Duration'] == '5-6 hours')])/len(df_total['Sleep Duration'])\n",
    "print(count)"
   ]
  },
  {
   "cell_type": "code",
   "execution_count": 135,
   "metadata": {},
   "outputs": [],
   "source": [
    "df_total = df_total.drop(df_total[(df_total['Dietary Habits'] != 'Healthy') & (df_total['Dietary Habits'] != 'Unhealthy') & (df_total['Dietary Habits'] != 'Moderate')].index)\n",
    "\n",
    "df_total = df_total.drop(df_total[(df_total['Sleep Duration'] != 'Less than 5 hours') & (df_total['Sleep Duration'] != '7-8 hours') & (df_total['Sleep Duration'] != 'More than 8 hours') & (df_total['Sleep Duration'] != '5-6 hours')].index)\n",
    "\n",
    "# Resetting the index\n",
    "df_total.reset_index(inplace=True)"
   ]
  },
  {
   "cell_type": "markdown",
   "metadata": {},
   "source": [
    "The most common values on those two columns represents more than 99% of the data. We could take a look on the crazy data and try treating it. But We'll just let it go and not pay much attention to it as it seems too much work for little gain."
   ]
  },
  {
   "cell_type": "code",
   "execution_count": 136,
   "metadata": {},
   "outputs": [
    {
     "name": "stdout",
     "output_type": "stream",
     "text": [
      "Sleep Duration\n",
      "Less than 5 hours    64429\n",
      "7-8 hours            61441\n",
      "More than 8 hours    54905\n",
      "5-6 hours            53535\n",
      "Name: count, dtype: int64\n"
     ]
    }
   ],
   "source": [
    "#Count the occurance of each unique value in the column - check crazy values\n",
    "print(df_total['Sleep Duration'].value_counts())"
   ]
  },
  {
   "cell_type": "markdown",
   "metadata": {},
   "source": [
    "- CGPA"
   ]
  },
  {
   "cell_type": "markdown",
   "metadata": {},
   "source": [
    "This is a 'Student' feature, so 'Working Professionals' won't have an assigned value to it. Two approaches come to mind:\n",
    "\n",
    "    1. Simply delete this feature and get on with it (probably a good start)\n",
    "    2. Check on the existing distribution, maybe adjust it to a normal distribution and assign the average value to the missing rows.\n",
    "    3. Assign a value outside the range of known CGPA for Working Professionals\n",
    "\n",
    "I think option 3 is the best idea, but just for curiosity, lets go with the second option and check if it is a good idea."
   ]
  },
  {
   "cell_type": "code",
   "execution_count": 137,
   "metadata": {},
   "outputs": [
    {
     "data": {
      "text/plain": [
       "(array([1217.,  733., 1184., 2075., 2599., 1636., 1296., 1037., 1420.,\n",
       "         397., 1529., 1070., 2282., 1484., 1472.,  983., 1426., 1682.,\n",
       "        2678., 1002., 1173., 1856., 1627., 2264., 1050., 1396., 1955.,\n",
       "        1139., 1593., 3360.]),\n",
       " array([ 5.03      ,  5.19566667,  5.36133333,  5.527     ,  5.69266667,\n",
       "         5.85833333,  6.024     ,  6.18966667,  6.35533333,  6.521     ,\n",
       "         6.68666667,  6.85233333,  7.018     ,  7.18366667,  7.34933333,\n",
       "         7.515     ,  7.68066667,  7.84633333,  8.012     ,  8.17766667,\n",
       "         8.34333333,  8.509     ,  8.67466667,  8.84033333,  9.006     ,\n",
       "         9.17166667,  9.33733333,  9.503     ,  9.66866667,  9.83433333,\n",
       "        10.        ]),\n",
       " <BarContainer object of 30 artists>)"
      ]
     },
     "execution_count": 137,
     "metadata": {},
     "output_type": "execute_result"
    },
    {
     "data": {
      "image/png": "[encoded data removed]",
      "text/plain": [
       "<Figure size 640x480 with 1 Axes>"
      ]
     },
     "metadata": {},
     "output_type": "display_data"
    }
   ],
   "source": [
    "plt.hist(df_total['CGPA'], bins=30, color='blue', alpha=0.7, edgecolor='black')"
   ]
  },
  {
   "cell_type": "code",
   "execution_count": 138,
   "metadata": {},
   "outputs": [
    {
     "data": {
      "text/plain": [
       "count    46615.000000\n",
       "mean         7.664792\n",
       "std          1.464678\n",
       "min          5.030000\n",
       "25%          6.290000\n",
       "50%          7.770000\n",
       "75%          8.930000\n",
       "max         10.000000\n",
       "Name: CGPA, dtype: float64"
      ]
     },
     "execution_count": 138,
     "metadata": {},
     "output_type": "execute_result"
    }
   ],
   "source": [
    "df_total['CGPA'].describe()"
   ]
  },
  {
   "cell_type": "markdown",
   "metadata": {},
   "source": [
    "The CGPA data is nothing like a normal distribution, so the approach number 2 doesn't make much sense. So lets go to option 3."
   ]
  },
  {
   "cell_type": "code",
   "execution_count": 139,
   "metadata": {},
   "outputs": [],
   "source": [
    "mean_cgpa = df_total.groupby('Working Professional or Student').mean(numeric_only=True)\n",
    "\n",
    "df_total['CGPA'] = df_total['CGPA'].fillna(df_total['Working Professional or Student'].map(mean_cgpa['CGPA']).where(df_total['Working Professional or Student'] == 'Student', -1))"
   ]
  },
  {
   "cell_type": "code",
   "execution_count": 140,
   "metadata": {},
   "outputs": [
    {
     "data": {
      "text/plain": [
       "(array([1217.,  733., 1183., 2075., 2599., 1636., 1296., 1037., 1420.,\n",
       "         397., 1529., 1070., 2282., 1484., 1472., 1001., 1426., 1681.,\n",
       "        2674., 1001., 1173., 1856., 1627., 2264., 1050., 1396., 1955.,\n",
       "        1139., 1592., 3359.]),\n",
       " array([ 5.03      ,  5.19566667,  5.36133333,  5.527     ,  5.69266667,\n",
       "         5.85833333,  6.024     ,  6.18966667,  6.35533333,  6.521     ,\n",
       "         6.68666667,  6.85233333,  7.018     ,  7.18366667,  7.34933333,\n",
       "         7.515     ,  7.68066667,  7.84633333,  8.012     ,  8.17766667,\n",
       "         8.34333333,  8.509     ,  8.67466667,  8.84033333,  9.006     ,\n",
       "         9.17166667,  9.33733333,  9.503     ,  9.66866667,  9.83433333,\n",
       "        10.        ]),\n",
       " <BarContainer object of 30 artists>)"
      ]
     },
     "execution_count": 140,
     "metadata": {},
     "output_type": "execute_result"
    },
    {
     "data": {
      "image/png": "[encoded data removed]",
      "text/plain": [
       "<Figure size 640x480 with 1 Axes>"
      ]
     },
     "metadata": {},
     "output_type": "display_data"
    }
   ],
   "source": [
    "plt.hist(df_total['CGPA'].where(df_total['Working Professional or Student']=='Student'), bins=30, color='blue', alpha=0.7, edgecolor='black')"
   ]
  },
  {
   "cell_type": "code",
   "execution_count": 141,
   "metadata": {},
   "outputs": [
    {
     "data": {
      "text/html": [
       "<div>\n",
       "<style scoped>\n",
       "    .dataframe tbody tr th:only-of-type {\n",
       "        vertical-align: middle;\n",
       "    }\n",
       "\n",
       "    .dataframe tbody tr th {\n",
       "        vertical-align: top;\n",
       "    }\n",
       "\n",
       "    .dataframe thead th {\n",
       "        text-align: right;\n",
       "    }\n",
       "</style>\n",
       "<table border=\"1\" class=\"dataframe\">\n",
       "  <thead>\n",
       "    <tr style=\"text-align: right;\">\n",
       "      <th></th>\n",
       "      <th>id</th>\n",
       "      <th>Gender</th>\n",
       "      <th>Age</th>\n",
       "      <th>Working Professional or Student</th>\n",
       "      <th>Academic Pressure</th>\n",
       "      <th>Work Pressure</th>\n",
       "      <th>CGPA</th>\n",
       "      <th>Study Satisfaction</th>\n",
       "      <th>Job Satisfaction</th>\n",
       "      <th>Sleep Duration</th>\n",
       "      <th>Dietary Habits</th>\n",
       "      <th>Have you ever had suicidal thoughts ?</th>\n",
       "      <th>Work/Study Hours</th>\n",
       "      <th>Financial Stress</th>\n",
       "      <th>Family History of Mental Illness</th>\n",
       "      <th>Depression</th>\n",
       "      <th>is_train</th>\n",
       "    </tr>\n",
       "  </thead>\n",
       "  <tbody>\n",
       "    <tr>\n",
       "      <th>0</th>\n",
       "      <td>0</td>\n",
       "      <td>Female</td>\n",
       "      <td>49.0</td>\n",
       "      <td>Working Professional</td>\n",
       "      <td>NaN</td>\n",
       "      <td>5.0</td>\n",
       "      <td>-1.00</td>\n",
       "      <td>NaN</td>\n",
       "      <td>2.0</td>\n",
       "      <td>More than 8 hours</td>\n",
       "      <td>Healthy</td>\n",
       "      <td>No</td>\n",
       "      <td>1.0</td>\n",
       "      <td>2.0</td>\n",
       "      <td>No</td>\n",
       "      <td>0.0</td>\n",
       "      <td>1</td>\n",
       "    </tr>\n",
       "    <tr>\n",
       "      <th>1</th>\n",
       "      <td>1</td>\n",
       "      <td>Male</td>\n",
       "      <td>26.0</td>\n",
       "      <td>Working Professional</td>\n",
       "      <td>NaN</td>\n",
       "      <td>4.0</td>\n",
       "      <td>-1.00</td>\n",
       "      <td>NaN</td>\n",
       "      <td>3.0</td>\n",
       "      <td>Less than 5 hours</td>\n",
       "      <td>Unhealthy</td>\n",
       "      <td>Yes</td>\n",
       "      <td>7.0</td>\n",
       "      <td>3.0</td>\n",
       "      <td>No</td>\n",
       "      <td>1.0</td>\n",
       "      <td>1</td>\n",
       "    </tr>\n",
       "    <tr>\n",
       "      <th>2</th>\n",
       "      <td>2</td>\n",
       "      <td>Male</td>\n",
       "      <td>33.0</td>\n",
       "      <td>Student</td>\n",
       "      <td>5.0</td>\n",
       "      <td>NaN</td>\n",
       "      <td>8.97</td>\n",
       "      <td>2.0</td>\n",
       "      <td>NaN</td>\n",
       "      <td>5-6 hours</td>\n",
       "      <td>Healthy</td>\n",
       "      <td>Yes</td>\n",
       "      <td>3.0</td>\n",
       "      <td>1.0</td>\n",
       "      <td>No</td>\n",
       "      <td>1.0</td>\n",
       "      <td>1</td>\n",
       "    </tr>\n",
       "    <tr>\n",
       "      <th>3</th>\n",
       "      <td>3</td>\n",
       "      <td>Male</td>\n",
       "      <td>22.0</td>\n",
       "      <td>Working Professional</td>\n",
       "      <td>NaN</td>\n",
       "      <td>5.0</td>\n",
       "      <td>-1.00</td>\n",
       "      <td>NaN</td>\n",
       "      <td>1.0</td>\n",
       "      <td>Less than 5 hours</td>\n",
       "      <td>Moderate</td>\n",
       "      <td>Yes</td>\n",
       "      <td>10.0</td>\n",
       "      <td>1.0</td>\n",
       "      <td>Yes</td>\n",
       "      <td>1.0</td>\n",
       "      <td>1</td>\n",
       "    </tr>\n",
       "    <tr>\n",
       "      <th>4</th>\n",
       "      <td>4</td>\n",
       "      <td>Female</td>\n",
       "      <td>30.0</td>\n",
       "      <td>Working Professional</td>\n",
       "      <td>NaN</td>\n",
       "      <td>1.0</td>\n",
       "      <td>-1.00</td>\n",
       "      <td>NaN</td>\n",
       "      <td>1.0</td>\n",
       "      <td>5-6 hours</td>\n",
       "      <td>Unhealthy</td>\n",
       "      <td>Yes</td>\n",
       "      <td>9.0</td>\n",
       "      <td>4.0</td>\n",
       "      <td>Yes</td>\n",
       "      <td>0.0</td>\n",
       "      <td>1</td>\n",
       "    </tr>\n",
       "  </tbody>\n",
       "</table>\n",
       "</div>"
      ],
      "text/plain": [
       "   id  Gender   Age Working Professional or Student  Academic Pressure  \\\n",
       "0   0  Female  49.0            Working Professional                NaN   \n",
       "1   1    Male  26.0            Working Professional                NaN   \n",
       "2   2    Male  33.0                         Student                5.0   \n",
       "3   3    Male  22.0            Working Professional                NaN   \n",
       "4   4  Female  30.0            Working Professional                NaN   \n",
       "\n",
       "   Work Pressure  CGPA  Study Satisfaction  Job Satisfaction  \\\n",
       "0            5.0 -1.00                 NaN               2.0   \n",
       "1            4.0 -1.00                 NaN               3.0   \n",
       "2            NaN  8.97                 2.0               NaN   \n",
       "3            5.0 -1.00                 NaN               1.0   \n",
       "4            1.0 -1.00                 NaN               1.0   \n",
       "\n",
       "      Sleep Duration Dietary Habits Have you ever had suicidal thoughts ?  \\\n",
       "0  More than 8 hours        Healthy                                    No   \n",
       "1  Less than 5 hours      Unhealthy                                   Yes   \n",
       "2          5-6 hours        Healthy                                   Yes   \n",
       "3  Less than 5 hours       Moderate                                   Yes   \n",
       "4          5-6 hours      Unhealthy                                   Yes   \n",
       "\n",
       "   Work/Study Hours  Financial Stress Family History of Mental Illness  \\\n",
       "0               1.0               2.0                               No   \n",
       "1               7.0               3.0                               No   \n",
       "2               3.0               1.0                               No   \n",
       "3              10.0               1.0                              Yes   \n",
       "4               9.0               4.0                              Yes   \n",
       "\n",
       "   Depression  is_train  \n",
       "0         0.0         1  \n",
       "1         1.0         1  \n",
       "2         1.0         1  \n",
       "3         1.0         1  \n",
       "4         0.0         1  "
      ]
     },
     "execution_count": 141,
     "metadata": {},
     "output_type": "execute_result"
    }
   ],
   "source": [
    "df_total.head()"
   ]
  },
  {
   "cell_type": "markdown",
   "metadata": {},
   "source": [
    "- Financial Stress\n",
    "\n",
    "As financial stress may be impacted by the \"Working Professional or Student\" status, the missing value will be filled as the previous cases, the average of values for the group where each missing value case is found."
   ]
  },
  {
   "cell_type": "code",
   "execution_count": 142,
   "metadata": {},
   "outputs": [],
   "source": [
    "mean_financial = df_total.groupby('Working Professional or Student').mean(numeric_only=True)\n",
    "\n",
    "df_total['Financial Stress'] = df_total['Financial Stress'].fillna(df_total['Working Professional or Student'].map(mean_financial['Financial Stress']).where(df_total['Working Professional or Student'] == 'Student', df_total['Working Professional or Student'].map(mean_financial['Financial Stress'])))"
   ]
  },
  {
   "cell_type": "markdown",
   "metadata": {},
   "source": [
    "# Feature Engineering"
   ]
  },
  {
   "cell_type": "markdown",
   "metadata": {},
   "source": [
    "This is the study of the features aiming on optimizing the use of features. The final goal is dimension reduction. That is having less features. This can be acchieved:\n",
    "    \n",
    "        - Joining two features (like salary and dividends, can be combined into 'income')\n",
    "        - Deleting one feature (if two features are strongly correlated, only one is necessary in the data set)\n",
    "\n",
    "There are other ways to tap into it, but as a brief introduction, this should sufice."
   ]
  },
  {
   "cell_type": "markdown",
   "metadata": {},
   "source": [
    "- Academic pressure\n",
    "- Work pressure\n",
    "\n",
    "- Study satisfaction\n",
    "- Work satisfaction\n",
    "\n",
    "These will be combined in two new features \"Pressure\" and \"Satisfaction\". However it was noted that there are missing values. As these are all numerical, we can fill in blanks with the average values. As the average might defer from Students to Working Professionals, this task will be performed with the average by group."
   ]
  },
  {
   "cell_type": "code",
   "execution_count": 143,
   "metadata": {},
   "outputs": [],
   "source": [
    "#First we will create the new columns\n",
    "\n",
    "# Criar a nova coluna 'Pressure' com base nas condições\n",
    "df_total['Pressure'] = np.where(df_total['Working Professional or Student'] == 'Student', df_total['Academic Pressure'], df_total['Work Pressure'])\n",
    "\n",
    "df_total['Satisfaction'] = np.where(df_total['Working Professional or Student'] == 'Student', df_total['Study Satisfaction'], df_total['Job Satisfaction'])\n"
   ]
  },
  {
   "cell_type": "code",
   "execution_count": 144,
   "metadata": {},
   "outputs": [
    {
     "data": {
      "text/plain": [
       "0         2\n",
       "1         3\n",
       "2         2\n",
       "3         1\n",
       "4         1\n",
       "         ..\n",
       "234305    5\n",
       "234306    1\n",
       "234307    4\n",
       "234308    2\n",
       "234309    2\n",
       "Name: Satisfaction, Length: 234310, dtype: int32"
      ]
     },
     "execution_count": 144,
     "metadata": {},
     "output_type": "execute_result"
    }
   ],
   "source": [
    "mean_pressure = df_total.groupby('Working Professional or Student').mean(numeric_only=True).round(0).astype(int)\n",
    "\n",
    "df_total['Pressure'] = df_total['Pressure'].fillna(df_total['Working Professional or Student'].map(mean_pressure['Academic Pressure']).where(df_total['Working Professional or Student'] == 'Student', df_total['Working Professional or Student'].map(mean_pressure['Work Pressure'])))\n",
    "\n",
    "df_total['Pressure'].round(0).astype(int)\n",
    "\n",
    "mean_satisfaction = df_total.groupby('Working Professional or Student').mean(numeric_only=True).round(0).astype(int)\n",
    "\n",
    "df_total['Satisfaction'] = df_total['Satisfaction'].fillna(df_total['Working Professional or Student'].map(mean_satisfaction['Study Satisfaction']).where(df_total['Working Professional or Student'] == 'Student', df_total['Working Professional or Student'].map(mean_satisfaction['Job Satisfaction'])))\n",
    "\n",
    "df_total['Satisfaction'].round(0).astype(int)"
   ]
  },
  {
   "cell_type": "code",
   "execution_count": 145,
   "metadata": {},
   "outputs": [],
   "source": [
    "df_total.drop(axis=1, labels= ['Academic Pressure','Work Pressure','Study Satisfaction','Job Satisfaction'],inplace=True)"
   ]
  },
  {
   "cell_type": "code",
   "execution_count": 146,
   "metadata": {},
   "outputs": [
    {
     "name": "stdout",
     "output_type": "stream",
     "text": [
      "Depression    93716\n",
      "dtype: int64\n"
     ]
    }
   ],
   "source": [
    "#Number of missing values in each column of data\n",
    "missing_val_count_by_column = (df_total.isnull().sum())\n",
    "print(missing_val_count_by_column[missing_val_count_by_column > 0])"
   ]
  },
  {
   "cell_type": "markdown",
   "metadata": {},
   "source": [
    "# Dealing with Categorical Data"
   ]
  },
  {
   "cell_type": "code",
   "execution_count": 149,
   "metadata": {},
   "outputs": [],
   "source": [
    "# Label encoding for categoricals\n",
    "for colname in df_total.select_dtypes(\"object\"):\n",
    "    df_total[colname], _ = df_total[colname].factorize()\n",
    "\n",
    "# All discrete features should now have integer dtypes (double-check this before using MI!)\n",
    "discrete_features = df_total.dtypes == int"
   ]
  },
  {
   "cell_type": "code",
   "execution_count": 150,
   "metadata": {},
   "outputs": [
    {
     "data": {
      "text/html": [
       "<div>\n",
       "<style scoped>\n",
       "    .dataframe tbody tr th:only-of-type {\n",
       "        vertical-align: middle;\n",
       "    }\n",
       "\n",
       "    .dataframe tbody tr th {\n",
       "        vertical-align: top;\n",
       "    }\n",
       "\n",
       "    .dataframe thead th {\n",
       "        text-align: right;\n",
       "    }\n",
       "</style>\n",
       "<table border=\"1\" class=\"dataframe\">\n",
       "  <thead>\n",
       "    <tr style=\"text-align: right;\">\n",
       "      <th></th>\n",
       "      <th>id</th>\n",
       "      <th>Gender</th>\n",
       "      <th>Age</th>\n",
       "      <th>Working Professional or Student</th>\n",
       "      <th>CGPA</th>\n",
       "      <th>Sleep Duration</th>\n",
       "      <th>Dietary Habits</th>\n",
       "      <th>Have you ever had suicidal thoughts ?</th>\n",
       "      <th>Work/Study Hours</th>\n",
       "      <th>Financial Stress</th>\n",
       "      <th>Family History of Mental Illness</th>\n",
       "      <th>Depression</th>\n",
       "      <th>is_train</th>\n",
       "      <th>Pressure</th>\n",
       "      <th>Satisfaction</th>\n",
       "    </tr>\n",
       "  </thead>\n",
       "  <tbody>\n",
       "    <tr>\n",
       "      <th>0</th>\n",
       "      <td>0</td>\n",
       "      <td>0</td>\n",
       "      <td>49.0</td>\n",
       "      <td>0</td>\n",
       "      <td>-1.00</td>\n",
       "      <td>0</td>\n",
       "      <td>0</td>\n",
       "      <td>0</td>\n",
       "      <td>1.0</td>\n",
       "      <td>2.0</td>\n",
       "      <td>0</td>\n",
       "      <td>0.0</td>\n",
       "      <td>1</td>\n",
       "      <td>5.0</td>\n",
       "      <td>2.0</td>\n",
       "    </tr>\n",
       "    <tr>\n",
       "      <th>1</th>\n",
       "      <td>1</td>\n",
       "      <td>1</td>\n",
       "      <td>26.0</td>\n",
       "      <td>0</td>\n",
       "      <td>-1.00</td>\n",
       "      <td>1</td>\n",
       "      <td>1</td>\n",
       "      <td>1</td>\n",
       "      <td>7.0</td>\n",
       "      <td>3.0</td>\n",
       "      <td>0</td>\n",
       "      <td>1.0</td>\n",
       "      <td>1</td>\n",
       "      <td>4.0</td>\n",
       "      <td>3.0</td>\n",
       "    </tr>\n",
       "    <tr>\n",
       "      <th>2</th>\n",
       "      <td>2</td>\n",
       "      <td>1</td>\n",
       "      <td>33.0</td>\n",
       "      <td>1</td>\n",
       "      <td>8.97</td>\n",
       "      <td>2</td>\n",
       "      <td>0</td>\n",
       "      <td>1</td>\n",
       "      <td>3.0</td>\n",
       "      <td>1.0</td>\n",
       "      <td>0</td>\n",
       "      <td>1.0</td>\n",
       "      <td>1</td>\n",
       "      <td>5.0</td>\n",
       "      <td>2.0</td>\n",
       "    </tr>\n",
       "    <tr>\n",
       "      <th>3</th>\n",
       "      <td>3</td>\n",
       "      <td>1</td>\n",
       "      <td>22.0</td>\n",
       "      <td>0</td>\n",
       "      <td>-1.00</td>\n",
       "      <td>1</td>\n",
       "      <td>2</td>\n",
       "      <td>1</td>\n",
       "      <td>10.0</td>\n",
       "      <td>1.0</td>\n",
       "      <td>1</td>\n",
       "      <td>1.0</td>\n",
       "      <td>1</td>\n",
       "      <td>5.0</td>\n",
       "      <td>1.0</td>\n",
       "    </tr>\n",
       "    <tr>\n",
       "      <th>4</th>\n",
       "      <td>4</td>\n",
       "      <td>0</td>\n",
       "      <td>30.0</td>\n",
       "      <td>0</td>\n",
       "      <td>-1.00</td>\n",
       "      <td>2</td>\n",
       "      <td>1</td>\n",
       "      <td>1</td>\n",
       "      <td>9.0</td>\n",
       "      <td>4.0</td>\n",
       "      <td>1</td>\n",
       "      <td>0.0</td>\n",
       "      <td>1</td>\n",
       "      <td>1.0</td>\n",
       "      <td>1.0</td>\n",
       "    </tr>\n",
       "  </tbody>\n",
       "</table>\n",
       "</div>"
      ],
      "text/plain": [
       "   id  Gender   Age  Working Professional or Student  CGPA  Sleep Duration  \\\n",
       "0   0       0  49.0                                0 -1.00               0   \n",
       "1   1       1  26.0                                0 -1.00               1   \n",
       "2   2       1  33.0                                1  8.97               2   \n",
       "3   3       1  22.0                                0 -1.00               1   \n",
       "4   4       0  30.0                                0 -1.00               2   \n",
       "\n",
       "   Dietary Habits  Have you ever had suicidal thoughts ?  Work/Study Hours  \\\n",
       "0               0                                      0               1.0   \n",
       "1               1                                      1               7.0   \n",
       "2               0                                      1               3.0   \n",
       "3               2                                      1              10.0   \n",
       "4               1                                      1               9.0   \n",
       "\n",
       "   Financial Stress  Family History of Mental Illness  Depression  is_train  \\\n",
       "0               2.0                                 0         0.0         1   \n",
       "1               3.0                                 0         1.0         1   \n",
       "2               1.0                                 0         1.0         1   \n",
       "3               1.0                                 1         1.0         1   \n",
       "4               4.0                                 1         0.0         1   \n",
       "\n",
       "   Pressure  Satisfaction  \n",
       "0       5.0           2.0  \n",
       "1       4.0           3.0  \n",
       "2       5.0           2.0  \n",
       "3       5.0           1.0  \n",
       "4       1.0           1.0  "
      ]
     },
     "execution_count": 150,
     "metadata": {},
     "output_type": "execute_result"
    }
   ],
   "source": [
    "df_total.head()"
   ]
  },
  {
   "cell_type": "markdown",
   "metadata": {},
   "source": [
    "# Data visualization"
   ]
  },
  {
   "cell_type": "markdown",
   "metadata": {},
   "source": [
    "Lets look at data carefully. The goal is to understand the data we have in hands. Possible relations and insights should be discovered by applied algorithms. So we are not exactly trying to predict the outcome based on the value of a feature. We want to delete uncessary features, to possibly create new ones, cacth outliers and so on. \n",
    "\n",
    "In a real situation we could potentially get extra data not previously thought of. For instance, it could be that Sleep Duration and Dietary habits could be complemented by an \"Exercise\" feature \"How many days a week do you exercise\". Or maybe the salary range, how many vacations day the person takes by year. And so on.\n",
    "\n",
    "The temptation is to skip this is step and let the cool ML algorithm lift the weight, but understandig data is fundamental. Data is the \"WHAT\" but people are the \"WHY\" so the goal is always to look on how the people involved interfere with the data."
   ]
  },
  {
   "cell_type": "markdown",
   "metadata": {},
   "source": [
    "**Gender**"
   ]
  },
  {
   "cell_type": "code",
   "execution_count": 164,
   "metadata": {},
   "outputs": [
    {
     "name": "stderr",
     "output_type": "stream",
     "text": [
      "C:\\Users\\FGUF\\AppData\\Local\\Temp\\ipykernel_21724\\899904271.py:9: FutureWarning: \n",
      "\n",
      "Passing `palette` without assigning `hue` is deprecated and will be removed in v0.14.0. Assign the `x` variable to `hue` and set `legend=False` for the same effect.\n",
      "\n",
      "  sns.barplot(x='Gender', y='Sleep Duration', data=df_total, palette='viridis')\n"
     ]
    },
    {
     "data": {
      "text/plain": [
       "<Axes: xlabel='Gender', ylabel='Sleep Duration'>"
      ]
     },
     "execution_count": 164,
     "metadata": {},
     "output_type": "execute_result"
    },
    {
     "data": {
      "image/png": "[encoded data removed]",
      "text/plain": [
       "<Figure size 800x500 with 1 Axes>"
      ]
     },
     "metadata": {},
     "output_type": "display_data"
    }
   ],
   "source": [
    "# Criar um subset do DataFrame baseado em uma condição (exemplo: Idade > 25)\n",
    "#subset_df_total = df_total[df_total['Working Professional or Student'] == 1]\n",
    "\n",
    "# Agrupar os dados por Gênero e calcular a média do Salário\n",
    "#media_idade = df_total.groupby('Gender')['CGPA'].mean().reset_index()\n",
    "\n",
    "# Criar um gráfico de barras\n",
    "plt.figure(figsize=(8, 5))\n",
    "sns.barplot(x='Gender', y='Sleep Duration', data=df_total, palette='viridis')"
   ]
  },
  {
   "cell_type": "code",
   "execution_count": 163,
   "metadata": {},
   "outputs": [
    {
     "data": {
      "text/html": [
       "<div>\n",
       "<style scoped>\n",
       "    .dataframe tbody tr th:only-of-type {\n",
       "        vertical-align: middle;\n",
       "    }\n",
       "\n",
       "    .dataframe tbody tr th {\n",
       "        vertical-align: top;\n",
       "    }\n",
       "\n",
       "    .dataframe thead th {\n",
       "        text-align: right;\n",
       "    }\n",
       "</style>\n",
       "<table border=\"1\" class=\"dataframe\">\n",
       "  <thead>\n",
       "    <tr style=\"text-align: right;\">\n",
       "      <th></th>\n",
       "      <th>Gender</th>\n",
       "      <th>CGPA</th>\n",
       "    </tr>\n",
       "  </thead>\n",
       "  <tbody>\n",
       "    <tr>\n",
       "      <th>0</th>\n",
       "      <td>0</td>\n",
       "      <td>7.605490</td>\n",
       "    </tr>\n",
       "    <tr>\n",
       "      <th>1</th>\n",
       "      <td>1</td>\n",
       "      <td>7.711839</td>\n",
       "    </tr>\n",
       "  </tbody>\n",
       "</table>\n",
       "</div>"
      ],
      "text/plain": [
       "   Gender      CGPA\n",
       "0       0  7.605490\n",
       "1       1  7.711839"
      ]
     },
     "execution_count": 163,
     "metadata": {},
     "output_type": "execute_result"
    }
   ],
   "source": [
    "media_idade"
   ]
  },
  {
   "cell_type": "code",
   "execution_count": null,
   "metadata": {},
   "outputs": [],
   "source": []
  }
 ],
 "metadata": {
  "kernelspec": {
   "display_name": "Python 3",
   "language": "python",
   "name": "python3"
  },
  "language_info": {
   "codemirror_mode": {
    "name": "ipython",
    "version": 3
   },
   "file_extension": ".py",
   "mimetype": "text/x-python",
   "name": "python",
   "nbconvert_exporter": "python",
   "pygments_lexer": "ipython3",
   "version": "3.11.1"
  }
 },
 "nbformat": 4,
 "nbformat_minor": 2
}
